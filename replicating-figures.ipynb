{
 "cells": [
  {
   "cell_type": "code",
   "execution_count": 108,
   "metadata": {},
   "outputs": [],
   "source": [
    "import os\n",
    "import json\n",
    "import sklearn as sk\n",
    "from sklearn.mixture import BayesianGaussianMixture\n",
    "import numpy as np\n",
    "import torch\n",
    "import pandas as pd\n",
    "import random\n",
    "import matplotlib\n",
    "import matplotlib.pyplot as plt"
   ]
  },
  {
   "cell_type": "code",
   "execution_count": 83,
   "metadata": {},
   "outputs": [],
   "source": [
    "# set seeds\n",
    "def set_seeds(seed = 42):\n",
    "    np.random.seed(seed)\n",
    "    random.seed(seed)\n",
    "    torch.manual_seed(seed)"
   ]
  },
  {
   "cell_type": "code",
   "execution_count": 3,
   "metadata": {},
   "outputs": [
    {
     "name": "stdout",
     "output_type": "stream",
     "text": [
      "File directory: C:\\Users\\Willi\\Documents\\NYU\\Research\\NLU\\crowdsourcing\\pavlick-exp\\NLI-variation-data\n",
      "\n",
      "Data directory: C:\\Users\\Willi\\Documents\\NYU\\Research\\NLU\\crowdsourcing\\pavlick-exp\\NLI-variation-data\\sentence-pair-analysis\n",
      "\n",
      ": C:\\Users\\Willi\\Documents\\NYU\\Research\\NLU\\crowdsourcing\\pavlick-exp\\NLI-variation-data\\sentence-pair-analysis\\preprocessed-data.jsonl\n",
      "\n",
      "File directory: C:\\Users\\Willi\\Documents\\NYU\\Research\\NLU\\crowdsourcing\\pavlick-exp\\NLI-variation-data\\sentence-pair-analysis\\raw\\batch1.csv\n",
      "\n"
     ]
    }
   ],
   "source": [
    "repo = os.path.dirname(os.path.abspath(\"__file__\"))\n",
    "data_file = os.path.join(repo, \"sentence-pair-analysis\")\n",
    "preprocessed_file = os.path.join(data_file,\"preprocessed-data.jsonl\")\n",
    "raw_file = os.path.join(data_file,\"raw\",\"batch1.csv\")\n",
    "\n",
    "print(f\"File directory: {repo}\\n\")\n",
    "print(f\"Data directory: {data_file}\\n\")\n",
    "print(f\": {preprocessed_file}\\n\")\n",
    "print(f\"File directory: {raw_file}\\n\")"
   ]
  },
  {
   "cell_type": "markdown",
   "metadata": {},
   "source": [
    "### Preprocessed Data Keys:\n",
    "* __id__                     : id for the p/h pair, taken from original dataset when possible\n",
    "* __premise__\n",
    "* __hypothesis__\n",
    "* __task__                   : name of dataset from which the pair was drawn\n",
    "* __original-dataset-label__ : label given to p/h pair in the original dataset from which it was drawn\n",
    "* __labels__                 : list of scores (-50 to 50) assigned by annotators on our annotation\n",
    "* __normed-labels__          : list of z-normalized scores (-50 to 50) assigned by annotators on our annotation\n",
    "* __num-NA__                 : number of annotators who indicated the p/h pair could not be judged for some reason"
   ]
  },
  {
   "cell_type": "code",
   "execution_count": 91,
   "metadata": {},
   "outputs": [
    {
     "name": "stdout",
     "output_type": "stream",
     "text": [
      "Number of observations is 496\n",
      "\n",
      "Printing example.\n",
      "Example input idx 0:\n",
      "\n",
      "premise:What are they doing right that I did wrong? Maybe my mistake really was just a freak accident.\n",
      "\n",
      "hypothesis:It is possible I was just a freak accident.\n",
      "\n",
      "task:mnli\n",
      "\n",
      "original-dataset-label:entailment\n",
      "\n",
      "id:73712e\n",
      "\n",
      "labels:[49.999903547520425, -49.99995111441214, -49.9999262535316, -50.00002216690942, -49.99997016358147, 2.9743475205649004e-05, -49.99991864902569, 50.000005487734626, 50.00007020674138, -37.999962284357004, 9.935426996016205e-05, -50.00001821982882, 23.000030071125416, 7.624772071405838e-06, 50.00005718658829, -50.000053039841006, -49.99992127683262, -28.99996378762132, -46.00002935867597, 3.0000817552118093, -49.999960995140164, -50.00005181855073, -28.000016451461523, 49.99999400284343, 2.7224880593486228e-05, 49.99998363923796, -50.00009330891493, 50.00009220806719, 23.999995182149863, -50.00009794576143, -34.000077596372115, -49.999965118989365, 50.00007936875679, -46.99994782046449, -49.99994262522547, -49.99992367330478, -49.999939137711976, -18.000055500136305, 14.999944639674295, -50.000014394180795, 4.999965308721904, -50.00007802552399, -47.99993068563359, 29.999973389489604]\n",
      "\n",
      "normed-labels:[-1.0491589113748596, -2.0560017539904485, -1.3810484515603223, -0.6615987448077709, 0.7829899050122565, 0.8198509641595253, -1.4704955909271586, -1.930320212924443, -1.1672560862654415, -0.9754493735995985, -1.6160739119442122, 0.8226009149395181, 0.13462720625494773, -1.309553256493987, -0.3786500938547244, 0.08456536584101791, -1.542817681172467, 0.7453562477796868, -1.6921818001151636, -1.4571310062651546, -1.6353812673963266, 0.6341668628185833, -1.5594572982106552, 0.9462321761775477, -1.2166148949150044, -0.9999988381288596, -1.7393626582358332, -1.8406837183490177, -1.7121356556896594, -1.8587553700013055, 0.8919239395158518, -1.337180732284596, -0.7091251268610157, -0.6030224983062022, -1.0576057480970138, -2.0097480794013522, 0.738969874265693, 0.03202211191350356, -1.4210009029669053, 0.8221800243935986, -1.4782235310992904, -0.5353023221791824, 0.2484223843732441, -0.5171611562796745]\n",
      "\n",
      "num-NA:0.0\n",
      "\n"
     ]
    }
   ],
   "source": [
    "data = []\n",
    "\n",
    "with open(preprocessed_file, \"r\") as f:\n",
    "    for example in f:\n",
    "        data.append(json.loads(example))\n",
    "\n",
    "print(f\"Number of observations is {len(data)}\\n\")        \n",
    "\n",
    "#print example\n",
    "print(f\"Printing example.\")\n",
    "i = 0\n",
    "print(f\"Example input idx {i}:\\n\")\n",
    "for key, item in data[i].items():\n",
    "    print(f\"{key}:{item}\\n\")"
   ]
  },
  {
   "cell_type": "code",
   "execution_count": 101,
   "metadata": {},
   "outputs": [],
   "source": [
    "def fit_example(\n",
    "    example,\n",
    "    n_hold_out = 10,\n",
    "    n_splits = 10,\n",
    "    n_generate = 100,\n",
    "    verbose = False,\n",
    "):\n",
    "    \n",
    "    # max number of points set to number of points in the training data\n",
    "    results = []\n",
    "    \n",
    "    def fit_bgm(\n",
    "        train,\n",
    "        test,\n",
    "        n_components,\n",
    "        idx,\n",
    "        verbose = False,\n",
    "    ):\n",
    "        temp_dist = {}\n",
    "        bgm = BayesianGaussianMixture(n_components = n_components)\n",
    "        temp_dist['train_labels'] = bgm.fit_predict(train)\n",
    "        temp_dist['comp_weights'] = bgm.weights_\n",
    "        temp_dist['comp_means'] = bgm.means_\n",
    "        temp_dist['params'] = bgm.get_params()\n",
    "        temp_dist['samples'] = bgm.sample(n_samples = n_generate)\n",
    "        temp_dist['test_log_probs'] = bgm.score_samples(test)\n",
    "        \n",
    "        if verbose:\n",
    "            k = \"Multi\"\n",
    "            if n_components == 1:\n",
    "                k = \"Single\"\n",
    "                \n",
    "            for key, item in temp_dist.items():\n",
    "                print(f\"{key} for {k}-GM split {idx}:\\n {item}\")\n",
    "        \n",
    "        return temp_dist\n",
    "    \n",
    "    for i in range(n_splits):\n",
    "        example_array = np.array(example)\n",
    "        n_samples = len(example_array)\n",
    "\n",
    "        shuffled_indices = np.random.permutation(range(n_samples))\n",
    "        train = example_array[shuffled_indices[:-n_hold_out]].reshape(-1,1)\n",
    "        test = example_array[shuffled_indices[-n_hold_out:]].reshape(-1,1)\n",
    "\n",
    "        assert len(train) >= 5, \"Not consistent with paper!\"\n",
    "\n",
    "        multi_dist = fit_bgm(train, test, len(train), i, verbose)\n",
    "        single_dist = fit_bgm(train, test, 1, i, verbose)\n",
    "        \n",
    "        results.append({\n",
    "            \"Multi\" : multi_dist,\n",
    "            \"Single\" : single_dist,\n",
    "        })\n",
    "    \n",
    "    return results\n",
    "\n",
    "def run_label_experiment(\n",
    "    data,\n",
    "    n_hold_out = 10,\n",
    "    n_splits = 10,\n",
    "    n_generate = 100,\n",
    "    label_key = 'normed-labels',\n",
    "    verbose = False,\n",
    "):\n",
    "    final_results = []\n",
    "    for example in data:\n",
    "        final_results.append(fit_example(example[label_key]))\n",
    "    \n",
    "    return final_results"
   ]
  },
  {
   "cell_type": "code",
   "execution_count": 96,
   "metadata": {
    "scrolled": false
   },
   "outputs": [],
   "source": [
    "set_seeds(seed=42)\n",
    "\n",
    "debug_result = fit_example(data[0]['normed-labels'])"
   ]
  },
  {
   "cell_type": "code",
   "execution_count": 128,
   "metadata": {},
   "outputs": [],
   "source": [
    "set_seeds(seed=42)\n",
    "\n",
    "processed_data = run_label_experiment(data)"
   ]
  },
  {
   "cell_type": "code",
   "execution_count": 173,
   "metadata": {},
   "outputs": [],
   "source": [
    "def plot_charts(\n",
    "    data,\n",
    "    log_l_on = True,\n",
    "    comp_weight_on = True,\n",
    "    multi_key = 'Multi',\n",
    "    single_key = 'Single',\n",
    "    lprob_key = 'test_log_probs',\n",
    "    comp_weight_key = 'comp_weights',\n",
    "    comp_weight_cutoff = 3,\n",
    "):\n",
    "    def plot_log_l(\n",
    "        data,\n",
    "        multi_key = 'Multi',\n",
    "        single_key = 'Single',\n",
    "        lprob_key = 'test_log_probs',\n",
    "    ):\n",
    "        # get data\n",
    "        single = []\n",
    "        multi = []\n",
    "        \n",
    "        for example in data:\n",
    "            temp_single = []\n",
    "            temp_multi = []\n",
    "            \n",
    "            for split in example:\n",
    "                temp_single.append(np.average(split[single_key][lprob_key]))\n",
    "                temp_multi.append(np.average(split[multi_key][lprob_key]))\n",
    "            \n",
    "            single.append(np.average(temp_single))\n",
    "            multi.append(np.average(temp_multi))\n",
    "                                \n",
    "        # create figure\n",
    "        fig, ax = plt.subplots()\n",
    "        \n",
    "        # format labels\n",
    "        ax.set_yticks(np.arange(-2, 1, 0.5))\n",
    "        ax.set_xticks(np.arange(-2, 1, 0.5))\n",
    "        ax.set_ylim(-2, 0.5)\n",
    "        ax.set_xlim(-2, 0.5)\n",
    "        \n",
    "        # set labels\n",
    "        ax.set_xlabel('1 component')\n",
    "        ax.set_ylabel('K components')\n",
    "        \n",
    "        # plot\n",
    "        ax.scatter(single,multi,alpha=0.2)\n",
    "        ax.plot([-2,0.5],[-2,0.5],'--',c='k')\n",
    "        \n",
    "        # Adjust layout\n",
    "        fig.tight_layout()\n",
    "        \n",
    "        return fig\n",
    "    \n",
    "    def plot_comp_weights(\n",
    "        data,\n",
    "        multi_key = 'Multi',        \n",
    "        comp_weight_key = 'comp_weights',\n",
    "        comp_weight_cutoff = 3,\n",
    "        colors = ['b','orange','g'],\n",
    "        sortby = 'Component 1',\n",
    "    ):\n",
    "        \n",
    "        assert len(colors)==comp_weight_cutoff, f\"{comp_weight_cutoff} components but {len(colors)} colors\"\n",
    "        # get data\n",
    "        comp_weights = {\n",
    "            f'Component {i}' : []\n",
    "            for i in range(comp_weight_cutoff)\n",
    "        }\n",
    "        \n",
    "        for example in data:\n",
    "            temp_comp_weights = {\n",
    "                i : []\n",
    "                for i in range(comp_weight_cutoff)\n",
    "            }\n",
    "            \n",
    "            for split in example:\n",
    "                for i in range(comp_weight_cutoff):\n",
    "                    temp_comp_weights[i].append(split[multi_key][comp_weight_key][i])\n",
    "            \n",
    "            for i in range(comp_weight_cutoff):\n",
    "                comp_weights[f'Component {i}'].append(np.average(temp_comp_weights[i]))\n",
    "\n",
    "        comp_weights = pd.DataFrame(comp_weights).sort_values(by=sortby)\n",
    "        comp_weights.reset_index(inplace=True, drop=True)\n",
    "        \n",
    "        # normalize weights\n",
    "        comp_weights = comp_weights.div(comp_weights.sum(axis=1), axis=0)\n",
    "        \n",
    "        # create figure\n",
    "        fig, ax = plt.subplots()\n",
    "        \n",
    "        # format labels\n",
    "        ax.set_yticks(np.arange(0, 600, 100))\n",
    "        ax.set_xticks(np.arange(0, 1.2, 0.2))\n",
    "        ax.set_ylim(0, 500)\n",
    "        ax.set_xlim(0, 1)\n",
    "        \n",
    "        # plot\n",
    "        cum = pd.Series(0, index = range(comp_weights.shape[0]))\n",
    "        for idx, col in enumerate(list(comp_weights.columns.values)):\n",
    "            start = cum\n",
    "            cum = cum + comp_weights[col]\n",
    "            ax.barh(comp_weights.index.values,\n",
    "                    comp_weights[col],\n",
    "                    left = start,\n",
    "                    color=colors[idx],\n",
    "                    label=col,\n",
    "                    height=1,\n",
    "                   )\n",
    "        \n",
    "        # Adjust layout\n",
    "        fig.tight_layout()\n",
    "        \n",
    "        return fig\n",
    "    \n",
    "    log_l_fig = None\n",
    "    comp_weight_fig = None\n",
    "    \n",
    "    if log_l_on:\n",
    "        log_l_fig = plot_log_l(\n",
    "            data,\n",
    "            multi_key = multi_key,\n",
    "            single_key = single_key,\n",
    "            lprob_key = lprob_key,\n",
    "        )\n",
    "    \n",
    "    if comp_weight_on:\n",
    "        plot_comp_weights(\n",
    "            data,\n",
    "            multi_key = multi_key,\n",
    "            comp_weight_key = comp_weight_key,\n",
    "            comp_weight_cutoff = comp_weight_cutoff,\n",
    "            colors = ['b','orange','g'],\n",
    "            sortby = 'Component 0',\n",
    "        )\n",
    "    \n",
    "    return {\n",
    "        'log prob'     : log_l_fig,\n",
    "        'comp weights' : comp_weight_fig,\n",
    "    }"
   ]
  },
  {
   "cell_type": "code",
   "execution_count": 174,
   "metadata": {},
   "outputs": [
    {
     "data": {
      "text/plain": [
       "{'log prob': <Figure size 432x288 with 1 Axes>, 'comp weights': None}"
      ]
     },
     "execution_count": 174,
     "metadata": {},
     "output_type": "execute_result"
    },
    {
     "data": {
      "image/png": "[encoded data removed]",
      "text/plain": [
       "<Figure size 432x288 with 1 Axes>"
      ]
     },
     "metadata": {
      "needs_background": "light"
     },
     "output_type": "display_data"
    },
    {
     "data": {
      "image/png": "[encoded data removed]",
      "text/plain": [
       "<Figure size 432x288 with 1 Axes>"
      ]
     },
     "metadata": {
      "needs_background": "light"
     },
     "output_type": "display_data"
    }
   ],
   "source": [
    "plot_charts(\n",
    "    processed_data,\n",
    "    log_l_on = True,\n",
    "    comp_weight_on = True,\n",
    ")"
   ]
  },
  {
   "cell_type": "code",
   "execution_count": 162,
   "metadata": {},
   "outputs": [
    {
     "name": "stdout",
     "output_type": "stream",
     "text": [
      "   0  1\n",
      "0  2  2\n",
      "1  3  3\n",
      "0    4\n",
      "1    6\n",
      "dtype: int64\n",
      "     0    1\n",
      "0  0.5  0.5\n",
      "1  0.5  0.5\n",
      "0    0\n",
      "1    0\n",
      "dtype: int64\n",
      "0    0.5\n",
      "1    0.5\n",
      "dtype: float64\n"
     ]
    }
   ],
   "source": [
    "a = {k:[2,3]\n",
    "    for k in range(2)}\n",
    "\n",
    "b = pd.DataFrame(a)\n",
    "\n",
    "print(b)\n",
    "print(b.sum(axis=1))\n",
    "\n",
    "c = b.div(b.sum(axis=1), axis = 0)\n",
    "\n",
    "print(c)\n",
    "\n",
    "d = pd.Series(0, index = range(c.shape[0]))\n",
    "\n",
    "print(d)\n",
    "\n",
    "d = d + c[0]\n",
    "\n",
    "print(d)"
   ]
  },
  {
   "cell_type": "markdown",
   "metadata": {},
   "source": [
    "### Raw data dump from MT"
   ]
  },
  {
   "cell_type": "code",
   "execution_count": 9,
   "metadata": {},
   "outputs": [],
   "source": [
    "rawdf = pd.read_csv(raw_file)"
   ]
  },
  {
   "cell_type": "code",
   "execution_count": 17,
   "metadata": {},
   "outputs": [
    {
     "name": "stdout",
     "output_type": "stream",
     "text": [
      "Size of raw data dump is (120, 169)\n",
      "\n",
      "['HITId', 'HITTypeId', 'Title', 'Description', 'Keywords', 'Reward', 'CreationTime', 'MaxAssignments', 'RequesterAnnotation', 'AssignmentDurationInSeconds', 'AutoApprovalDelayInSeconds', 'Expiration', 'NumberOfSimilarHITs', 'LifetimeInSeconds', 'AssignmentId', 'WorkerId', 'AssignmentStatus', 'AcceptTime', 'SubmitTime', 'AutoApprovalTime', 'ApprovalTime', 'RejectionTime', 'RequesterFeedback', 'WorkTimeInSeconds', 'LifetimeApprovalRate', 'Last30DaysApprovalRate', 'Last7DaysApprovalRate', 'Input.task_name_0', 'Input.pair_id_0', 'Input.label_0', 'Input.p_0', 'Input.h_0', 'Input.task_name_1', 'Input.pair_id_1', 'Input.label_1', 'Input.p_1', 'Input.h_1', 'Input.task_name_2', 'Input.pair_id_2', 'Input.label_2', 'Input.p_2', 'Input.h_2', 'Input.task_name_3', 'Input.pair_id_3', 'Input.label_3', 'Input.p_3', 'Input.h_3', 'Input.task_name_4', 'Input.pair_id_4', 'Input.label_4', 'Input.p_4', 'Input.h_4', 'Input.task_name_5', 'Input.pair_id_5', 'Input.label_5', 'Input.p_5', 'Input.h_5', 'Input.task_name_6', 'Input.pair_id_6', 'Input.label_6', 'Input.p_6', 'Input.h_6', 'Input.task_name_7', 'Input.pair_id_7', 'Input.label_7', 'Input.p_7', 'Input.h_7', 'Input.task_name_8', 'Input.pair_id_8', 'Input.label_8', 'Input.p_8', 'Input.h_8', 'Input.task_name_9', 'Input.pair_id_9', 'Input.label_9', 'Input.p_9', 'Input.h_9', 'Input.task_name_10', 'Input.pair_id_10', 'Input.label_10', 'Input.p_10', 'Input.h_10', 'Input.task_name_11', 'Input.pair_id_11', 'Input.label_11', 'Input.p_11', 'Input.h_11', 'Input.task_name_12', 'Input.pair_id_12', 'Input.label_12', 'Input.p_12', 'Input.h_12', 'Input.task_name_13', 'Input.pair_id_13', 'Input.label_13', 'Input.p_13', 'Input.h_13', 'Input.task_name_14', 'Input.pair_id_14', 'Input.label_14', 'Input.p_14', 'Input.h_14', 'Input.task_name_15', 'Input.pair_id_15', 'Input.label_15', 'Input.p_15', 'Input.h_15', 'Input.task_name_16', 'Input.pair_id_16', 'Input.label_16', 'Input.p_16', 'Input.h_16', 'Input.task_name_17', 'Input.pair_id_17', 'Input.label_17', 'Input.p_17', 'Input.h_17', 'Input.task_name_18', 'Input.pair_id_18', 'Input.label_18', 'Input.p_18', 'Input.h_18', 'Input.task_name_19', 'Input.pair_id_19', 'Input.label_19', 'Input.p_19', 'Input.h_19', 'Answer.na0', 'Answer.na1', 'Answer.na10', 'Answer.na11', 'Answer.na12', 'Answer.na13', 'Answer.na14', 'Answer.na15', 'Answer.na16', 'Answer.na17', 'Answer.na18', 'Answer.na19', 'Answer.na2', 'Answer.na3', 'Answer.na4', 'Answer.na5', 'Answer.na6', 'Answer.na7', 'Answer.na8', 'Answer.na9', 'Answer.rating0', 'Answer.rating1', 'Answer.rating10', 'Answer.rating11', 'Answer.rating12', 'Answer.rating13', 'Answer.rating14', 'Answer.rating15', 'Answer.rating16', 'Answer.rating17', 'Answer.rating18', 'Answer.rating19', 'Answer.rating2', 'Answer.rating3', 'Answer.rating4', 'Answer.rating5', 'Answer.rating6', 'Answer.rating7', 'Answer.rating8', 'Answer.rating9', 'Approve', 'Reject']\n"
     ]
    }
   ],
   "source": [
    "print(f\"Size of raw data dump is {rawdf.shape}\\n\")\n",
    "\n",
    "print(list(rawdf.columns.values))"
   ]
  },
  {
   "cell_type": "code",
   "execution_count": 45,
   "metadata": {},
   "outputs": [
    {
     "name": "stdout",
     "output_type": "stream",
     "text": [
      "71\n",
      "\n"
     ]
    }
   ],
   "source": [
    "print(f\"{len(rawdf['WorkerId'].unique())}\\n\")"
   ]
  },
  {
   "cell_type": "code",
   "execution_count": 27,
   "metadata": {},
   "outputs": [
    {
     "name": "stdout",
     "output_type": "stream",
     "text": [
      "Number of Answer.na: 20\n",
      "Number of Answer.rating: 20\n"
     ]
    }
   ],
   "source": [
    "count_na = 0\n",
    "count_rating = 0\n",
    "\n",
    "for col_name in list(rawdf.columns.values):\n",
    "    if 'Answer.na' in col_name:\n",
    "        count_na += 1\n",
    "    \n",
    "    if 'Answer.rating' in col_name:\n",
    "        count_rating += 1\n",
    "        \n",
    "print(f\"Number of Answer.na: {count_na}\")\n",
    "print(f\"Number of Answer.rating: {count_rating}\")"
   ]
  },
  {
   "cell_type": "markdown",
   "metadata": {},
   "source": [
    "#### Reformat data into dictionary with batched HITs"
   ]
  },
  {
   "cell_type": "code",
   "execution_count": 43,
   "metadata": {},
   "outputs": [],
   "source": [
    "newraw = {}\n",
    "batch_n = 20\n",
    "batch_keys_orig = [\n",
    "    'HITId',\n",
    "    'AssignmentId',\n",
    "]\n",
    "\n",
    "example_keys = [\n",
    "    'Input.task_name',\n",
    "    'Input.pair_id',\n",
    "    'Input.label',\n",
    "    'Input.p',\n",
    "    'Input.h',\n",
    "    'Answer.na',\n",
    "    'Answer.rating',\n",
    "]\n",
    "\n",
    "for i, row in rawdf.iterrows():\n",
    "    temp_batch = {}\n",
    "    temp_tasks = {}\n",
    "    \n",
    "    for key in batch_keys_orig:\n",
    "        temp_batch[key] = row[key]\n",
    "    \n",
    "    for idx in range(batch_n):\n",
    "        temp_example = {}\n",
    "        \n",
    "        for key in example_keys:\n",
    "            try:\n",
    "                temp_example[key] = row[key+f'{idx}']\n",
    "            except:\n",
    "                temp_example[key] = row[key+f'_{idx}']\n",
    "        \n",
    "        temp_tasks[idx] = temp_example\n",
    "    temp_batch['Tasks'] = temp_tasks\n",
    "    \n",
    "    worker_example = newraw.get(row['WorkerId'], False)\n",
    "    if worker_example:\n",
    "        worker_example['Batches'].append(temp_batch)\n",
    "    else:\n",
    "        newraw[row['WorkerId']] = {\n",
    "            'WorkerId' : row['WorkerId'],\n",
    "            'Batches'  : [temp_batch]\n",
    "        }"
   ]
  }
 ],
 "metadata": {
  "kernelspec": {
   "display_name": "DL",
   "language": "python",
   "name": "dl"
  },
  "language_info": {
   "codemirror_mode": {
    "name": "ipython",
    "version": 3
   },
   "file_extension": ".py",
   "mimetype": "text/x-python",
   "name": "python",
   "nbconvert_exporter": "python",
   "pygments_lexer": "ipython3",
   "version": "3.7.7"
  }
 },
 "nbformat": 4,
 "nbformat_minor": 4
}
